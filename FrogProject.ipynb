{
 "cells": [
  {
   "cell_type": "code",
   "execution_count": 1561,
   "metadata": {},
   "outputs": [],
   "source": [
    "\n",
    "from pathlib import Path\n",
    "import pandas as pd\n",
    "import tensorflow as tf\n",
    "import torch\n",
    "import torchaudio\n",
    "import numpy as np\n",
    "import matplotlib.pyplot as plt\n",
    "import random\n",
    "from torchaudio import transforms\n",
    "import librosa\n",
    "from sklearn.metrics import confusion_matrix, ConfusionMatrixDisplay\n",
    "from sklearn.metrics import multilabel_confusion_matrix\n",
    "import seaborn as sns\n",
    "#from sklearn.metrics import plot_confusion_matrix\n",
    "from tensorflow.keras import datasets, layers, models\n",
    "import math\n",
    "input_dir = Path.cwd()\n",
    "files = list(input_dir.rglob(\"*.mp3*\")) # store a list of all audio paths\n",
    "testingPaths = list(input_dir.rglob(\"*.wav*\"))\n",
    "#print(files[0])\n",
    "folders = list(input_dir.glob(\"*class*\"))\n",
    "#print(folders)\n",
    "#RECHANNEL ADDITIONAL DATA, ADD THE FUNCTION]\n",
    "\n",
    "# 7, 65,21"
   ]
  },
  {
   "cell_type": "code",
   "execution_count": 1562,
   "metadata": {},
   "outputs": [],
   "source": [
    "# label = 0\n",
    "# counter1 = -1\n",
    "# finalLabels = []\n",
    "# for i in range(len(files)):\n",
    "#     counter1 = counter1 + 1\n",
    "#     if counter1 % 40 == 0 and counter1 != 0:\n",
    "#         label = label + 1\n",
    "#     print(i, counter1, label)\n",
    "#     finalLabels.append(label)\n",
    "    "
   ]
  },
  {
   "cell_type": "code",
   "execution_count": 1563,
   "metadata": {},
   "outputs": [
    {
     "name": "stdout",
     "output_type": "stream",
     "text": [
      "15\n"
     ]
    }
   ],
   "source": [
    "print(len(testingPaths))"
   ]
  },
  {
   "cell_type": "code",
   "execution_count": 1564,
   "metadata": {},
   "outputs": [],
   "source": [
    "#print(finalLabels[1999\n",
    "                #  ])"
   ]
  },
  {
   "cell_type": "code",
   "execution_count": 1565,
   "metadata": {},
   "outputs": [],
   "source": [
    "# updatedFiles = []\n",
    "# num = 0\n",
    "# for i in range(50):\n",
    "#     for j in range(30):\n",
    "#         updatedFiles.append(files[j + num])\n",
    "#     num  = num + 40\n"
   ]
  },
  {
   "cell_type": "code",
   "execution_count": 1566,
   "metadata": {},
   "outputs": [],
   "source": [
    "# updatedTestingFiles = []\n",
    "# num = 30\n",
    "# for i in range(50):\n",
    "#         for j in range(10):\n",
    "#             updatedTestingFiles.append(files[j + num])\n",
    "#         num = num + 40\n",
    "        "
   ]
  },
  {
   "cell_type": "code",
   "execution_count": 1567,
   "metadata": {},
   "outputs": [],
   "source": [
    "# updatedTrainingLabels = []\n",
    "# num = 0\n",
    "# for i in range(50):\n",
    "#     for j in range(30):\n",
    "#         updatedTrainingLabels.append(finalLabels[j + num])\n",
    "#     num  = num + 40"
   ]
  },
  {
   "cell_type": "code",
   "execution_count": 1568,
   "metadata": {},
   "outputs": [],
   "source": [
    "# updatedTestingLabels = []\n",
    "# num = 30\n",
    "# for i in range(50):\n",
    "#         for j in range(10):\n",
    "#             updatedTestingLabels.append(finalLabels[j + num])\n",
    "#         num = num + 40"
   ]
  },
  {
   "cell_type": "code",
   "execution_count": 1569,
   "metadata": {},
   "outputs": [],
   "source": [
    "# print(updatedTestingLabels[6])\n",
    "# print(updatedTestingFiles[20])\n",
    "# print(len(updatedTestingFiles))\n",
    "# print(len(updatedTestingLabels))"
   ]
  },
  {
   "cell_type": "code",
   "execution_count": 1570,
   "metadata": {},
   "outputs": [
    {
     "name": "stdout",
     "output_type": "stream",
     "text": [
      "0\n"
     ]
    }
   ],
   "source": [
    "mixedRecordings = []\n",
    "counter = 0\n",
    "for testingPath in testingPaths:\n",
    "    \n",
    "    \n",
    "    if int(str(testingPath)[55:56]) == 7 or int(str(testingPath)[55:56]) == 6 or int(str(testingPath)[55:56]) == 2:\n",
    "        \n",
    "        if(int(str(testingPath)[55:56]) == 2 ):\n",
    "            \n",
    "            if(str(testingPath)[73:74] == \"G\"):\n",
    "                \n",
    "                 mixedRecordings.append(testingPath)\n",
    "        else:\n",
    "           \n",
    "            mixedRecordings.append(testingPath)\n",
    "        \n",
    "mixedRecordings\n",
    "for recording in mixedRecordings:\n",
    "    for path in testingPaths:\n",
    "        if recording == path:\n",
    "            testingPaths.remove(path)\n",
    "print(len(mixedRecordings))\n",
    "# #21, 65, 7 \n",
    "#0,15,30, 9\n"
   ]
  },
  {
   "cell_type": "code",
   "execution_count": 1571,
   "metadata": {},
   "outputs": [
    {
     "name": "stdout",
     "output_type": "stream",
     "text": [
      "0\n"
     ]
    }
   ],
   "source": [
    "# print(len(mixedRecordings))\n",
    "#mixedRecordings = updatedTestingFiles\n",
    "# print(testingPaths)\n",
    "print(len(mixedRecordings))\n"
   ]
  },
  {
   "cell_type": "code",
   "execution_count": 1572,
   "metadata": {},
   "outputs": [],
   "source": [
    "\n",
    "class_names = []\n"
   ]
  },
  {
   "cell_type": "code",
   "execution_count": 1573,
   "metadata": {},
   "outputs": [
    {
     "name": "stdout",
     "output_type": "stream",
     "text": [
      "c:\\Users\\anand\\OneDrive\\Desktop\\WesternGhatsFrogs\\class0\\\n",
      "c:\\Users\\anand\\OneDrive\\Desktop\\WesternGhatsFrogs\\class0\\Dut\n",
      "1\n"
     ]
    }
   ],
   "source": [
    "PATH_IDENTIFIER = 57\n",
    "data = [[]]\n",
    "for file, folder in zip(files, folders):\n",
    "    data.append([file, folder])\n",
    "data.pop(0)\n",
    "updatedData = data\n",
    "for i in range(len(updatedData)):\n",
    "    updatedData[i][1] = str(data[i][1])[55:]\n",
    "dftrain = pd.DataFrame(updatedData, columns = ['FilePath', 'Class ID'])\n",
    "dftrain\n",
    "#arranged the meta data with files paths corresponding to classIds\n",
    "print(str(testingPaths[0])[:57])\n",
    "print(str(files[0])[:60])\n",
    "print(testingPaths.index(testingPaths[1]))"
   ]
  },
  {
   "cell_type": "code",
   "execution_count": 1574,
   "metadata": {},
   "outputs": [],
   "source": [
    "# class_names = []\n",
    "# morePaths = dftrain['FilePath']\n",
    "# classIds = dftrain[\"Class ID\"]\n",
    "# dict = {}\n",
    "# for i in range(71):\n",
    "#     dict[int(classIds[i])] = str(morePaths[i])[57:-4]\n",
    "# myKeys = list(dict.keys())\n",
    "# myKeys.sort()\n",
    "# sorted_dict = {i: dict[i] for i in myKeys}\n",
    "# sorted_dict\n",
    "# class_names = dict.values()\n",
    "# class_names"
   ]
  },
  {
   "cell_type": "code",
   "execution_count": null,
   "metadata": {},
   "outputs": [],
   "source": []
  },
  {
   "cell_type": "code",
   "execution_count": 1575,
   "metadata": {},
   "outputs": [
    {
     "name": "stdout",
     "output_type": "stream",
     "text": [
      "                                             FilePath Class ID\n",
      "0   c:\\Users\\anand\\OneDrive\\Desktop\\WesternGhatsFr...        0\n",
      "1   c:\\Users\\anand\\OneDrive\\Desktop\\WesternGhatsFr...       11\n",
      "2   c:\\Users\\anand\\OneDrive\\Desktop\\WesternGhatsFr...       15\n",
      "3   c:\\Users\\anand\\OneDrive\\Desktop\\WesternGhatsFr...        2\n",
      "4   c:\\Users\\anand\\OneDrive\\Desktop\\WesternGhatsFr...       25\n",
      "5   c:\\Users\\anand\\OneDrive\\Desktop\\WesternGhatsFr...       30\n",
      "6   c:\\Users\\anand\\OneDrive\\Desktop\\WesternGhatsFr...       38\n",
      "7   c:\\Users\\anand\\OneDrive\\Desktop\\WesternGhatsFr...       39\n",
      "8   c:\\Users\\anand\\OneDrive\\Desktop\\WesternGhatsFr...        4\n",
      "9   c:\\Users\\anand\\OneDrive\\Desktop\\WesternGhatsFr...       41\n",
      "10  c:\\Users\\anand\\OneDrive\\Desktop\\WesternGhatsFr...       58\n",
      "11  c:\\Users\\anand\\OneDrive\\Desktop\\WesternGhatsFr...        9\n"
     ]
    }
   ],
   "source": [
    "testingLabels = [] #extends the labels and testingPaths to the data array and label array\n",
    "paths1 = dftrain['FilePath']\n",
    "paths1 = list(paths1)\n",
    "\n",
    "for path in testingPaths:\n",
    "    for nextPath in paths1:\n",
    "      \n",
    "        #print(str(path)[:PATH_IDENTIFIER]  str(nextPath)[:PATH_IDENTIFIER])\n",
    "        if str(path)[:PATH_IDENTIFIER] == str(nextPath)[:PATH_IDENTIFIER]:\n",
    "            \n",
    "            testingLabels.append(int(dftrain.iloc[paths1.index(nextPath)][1]))\n",
    "            break\n",
    "print(dftrain)\n",
    "# print(testingLabels)\n"
   ]
  },
  {
   "cell_type": "code",
   "execution_count": 1576,
   "metadata": {},
   "outputs": [],
   "source": [
    "# class_names = []\n",
    "# for i in range(71):\n",
    "#     class_names.append(i)"
   ]
  },
  {
   "cell_type": "code",
   "execution_count": 1577,
   "metadata": {},
   "outputs": [],
   "source": [
    "# NUM_CLASSES = -1\n",
    "# classes = dftrain[\"Class ID\"]\n",
    "\n",
    "# for aClass in classes:\n",
    "#     if int(aClass) > NUM_CLASSES:\n",
    "#         NUM_CLASSES = int(aClass)\n",
    "# NUM_CLASSES = NUM_CLASSES + 1\n",
    "# print(NUM_CLASSES)\n"
   ]
  },
  {
   "cell_type": "code",
   "execution_count": 1578,
   "metadata": {},
   "outputs": [
    {
     "name": "stdout",
     "output_type": "stream",
     "text": [
      "12\n"
     ]
    }
   ],
   "source": [
    "print(len(paths1))"
   ]
  },
  {
   "cell_type": "code",
   "execution_count": 1579,
   "metadata": {},
   "outputs": [
    {
     "data": {
      "text/plain": [
       "25"
      ]
     },
     "execution_count": 1579,
     "metadata": {},
     "output_type": "execute_result"
    }
   ],
   "source": [
    "paths1.append(testingPaths[4])\n",
    "paths1.append(testingPaths[5])\n",
    "paths1.append(testingPaths[7])\n",
    "testingPaths.pop(4)\n",
    "testingPaths.pop(4)\n",
    "testingPaths.pop(5)\n",
    "testingLabels.pop(4)\n",
    "testingLabels.pop(4)\n",
    "testingLabels.pop(5)"
   ]
  },
  {
   "cell_type": "code",
   "execution_count": 1580,
   "metadata": {},
   "outputs": [
    {
     "name": "stdout",
     "output_type": "stream",
     "text": [
      "[0, 1, 2, 3, 4, 5, 6, 7, 8, 9, 10, 11]\n"
     ]
    }
   ],
   "source": [
    "    testingLabels = [0, 1, 2, 3, 4, 5, 6, 7, 8, 9, 10, 11]\n",
    "#[0, 1, 2, 3, 4, 5, 6, 7, 8, 9, 10, 11, 3, 3, 4]\n",
    "    print(testingLabels)"
   ]
  },
  {
   "cell_type": "code",
   "execution_count": 1581,
   "metadata": {},
   "outputs": [],
   "source": [
    "#print(updatedFiles)\n",
    "mixedRecordings = testingPaths"
   ]
  },
  {
   "cell_type": "code",
   "execution_count": 1582,
   "metadata": {},
   "outputs": [
    {
     "name": "stdout",
     "output_type": "stream",
     "text": [
      "12\n"
     ]
    }
   ],
   "source": [
    "print(len(mixedRecordings))"
   ]
  },
  {
   "cell_type": "code",
   "execution_count": 1583,
   "metadata": {},
   "outputs": [],
   "source": [
    "\n",
    "paths1 = list(paths1)\n",
    "#paths.extend(testingPaths)\n",
    "INITIAL_SAMPLE_NUM = len(paths1)\n",
    "paths1.extend(mixedRecordings)\n",
    "data1 = []\n",
    "for path in paths1:\n",
    "    data1.append(torchaudio.load(path))\n",
    "waveform, sample_rate = torchaudio.load(dftrain['FilePath'][0])\n",
    "#len(data1[0])\n",
    "\n"
   ]
  },
  {
   "cell_type": "code",
   "execution_count": 1584,
   "metadata": {},
   "outputs": [
    {
     "name": "stdout",
     "output_type": "stream",
     "text": [
      "27\n"
     ]
    }
   ],
   "source": [
    "print(len(data1))"
   ]
  },
  {
   "cell_type": "code",
   "execution_count": 1585,
   "metadata": {},
   "outputs": [],
   "source": [
    "# def plot_waveform(waveform, sample_rate):\n",
    "#    # waveform = waveform.numpy()\n",
    "\n",
    "#     num_channels, num_frames = waveform.shape\n",
    "#     time_axis = torch.arange(0, num_frames) / sample_rate\n",
    "\n",
    "#     figure, axes = plt.subplots(num_channels, 1)\n",
    "#     if num_channels == 1:\n",
    "#         axes = [axes]\n",
    "#     for c in range(num_channels):\n",
    "#         axes[c].plot(time_axis, waveform[c], linewidth=1)\n",
    "#         axes[c].grid(True)\n",
    "#         if num_channels > 1:\n",
    "#             axes[c].set_ylabel(f\"Channel {c+1}\")\n",
    "#     figure.suptitle(\"waveform\")\n",
    "#     plt.show(block=False)"
   ]
  },
  {
   "cell_type": "code",
   "execution_count": null,
   "metadata": {},
   "outputs": [],
   "source": []
  },
  {
   "cell_type": "code",
   "execution_count": 1586,
   "metadata": {},
   "outputs": [],
   "source": [
    "\n",
    "def re_channel(aud):\n",
    "    sig, sr = aud \n",
    "    if(sig.shape[0] == 1):\n",
    "        print(\"hi\")\n",
    "        resig = torch.cat([sig, sig])\n",
    "        return (resig, sr)\n",
    "    else:\n",
    "        return (sig, sr)"
   ]
  },
  {
   "cell_type": "code",
   "execution_count": 1587,
   "metadata": {},
   "outputs": [
    {
     "name": "stdout",
     "output_type": "stream",
     "text": [
      "27\n"
     ]
    }
   ],
   "source": [
    "print(len(data1))"
   ]
  },
  {
   "cell_type": "code",
   "execution_count": 1588,
   "metadata": {},
   "outputs": [
    {
     "name": "stdout",
     "output_type": "stream",
     "text": [
      "(128, 786)\n",
      "(128, 786)\n"
     ]
    },
    {
     "data": {
      "text/plain": [
       "[Text(0.5, 1.0, 'Mel-frequency spectrogram')]"
      ]
     },
     "execution_count": 1588,
     "metadata": {},
     "output_type": "execute_result"
    },
    {
     "data": {
      "image/png": "[encoded data removed]",
      "text/plain": [
       "<Figure size 640x480 with 2 Axes>"
      ]
     },
     "metadata": {},
     "output_type": "display_data"
    }
   ],
   "source": [
    "fig, ax = plt.subplots()\n",
    "#print(data1[71][0].shape)\n",
    "sample_data = librosa.load(paths1[3\n",
    "                                 ])\n",
    "\n",
    "#print(sample_data[].shape)\n",
    "spect = librosa.feature.melspectrogram(y=np.array(sample_data[0]), sr=sample_data[1], n_mels=128,\n",
    "                                    fmax=10000)\n",
    "print(spect.shape)\n",
    "S_dB = librosa.power_to_db(spect, ref=np.max)\n",
    "print(S_dB.shape)\n",
    "img = librosa.display.specshow(S_dB, x_axis='time',\n",
    "                         y_axis='mel', sr=48000,\n",
    "                         fmax=8000, ax=ax)\n",
    "fig.colorbar(img, ax=ax, format='%+2.0f dB')\n",
    "ax.set(title='Mel-frequency spectrogram')"
   ]
  },
  {
   "cell_type": "code",
   "execution_count": 1589,
   "metadata": {},
   "outputs": [
    {
     "name": "stdout",
     "output_type": "stream",
     "text": [
      "hi\n",
      "hi\n",
      "hi\n",
      "hi\n",
      "hi\n",
      "hi\n",
      "hi\n",
      "hi\n",
      "hi\n",
      "hi\n",
      "hi\n"
     ]
    }
   ],
   "source": [
    "for i in range(0, len(data1)):\n",
    "    data1[i]  = re_channel(data1[i])\n",
    "    "
   ]
  },
  {
   "cell_type": "code",
   "execution_count": null,
   "metadata": {},
   "outputs": [],
   "source": []
  },
  {
   "cell_type": "code",
   "execution_count": 1590,
   "metadata": {},
   "outputs": [],
   "source": [
    " def resample(aud, newsr):\n",
    "    sig, sr = aud\n",
    "    if (sr == newsr):\n",
    "      # Nothing to do\n",
    "      return aud\n",
    "\n",
    "    num_channels = sig.shape[0]\n",
    "    # Resample first channel\n",
    "    resig = torchaudio.transforms.Resample(sr, newsr)(sig[:1,:])\n",
    "    if (num_channels > 1):\n",
    "      # Resample the second channel and merge both channels\n",
    "      retwo = torchaudio.transforms.Resample(sr, newsr)(sig[1:,:])\n",
    "      resig = torch.cat([resig, retwo])\n",
    "\n",
    "    return (resig, newsr)"
   ]
  },
  {
   "cell_type": "code",
   "execution_count": 1591,
   "metadata": {},
   "outputs": [
    {
     "name": "stdout",
     "output_type": "stream",
     "text": [
      "torch.Size([2, 842265])\n",
      "48000\n",
      "torch.Size([2, 774006])\n",
      "48000\n",
      "torch.Size([2, 1277702])\n",
      "48000\n",
      "torch.Size([2, 875993])\n",
      "48000\n",
      "torch.Size([2, 885166])\n",
      "48000\n",
      "torch.Size([2, 755854])\n",
      "48000\n",
      "torch.Size([2, 1173704])\n",
      "48000\n",
      "torch.Size([2, 1865964])\n",
      "48000\n",
      "torch.Size([2, 1150239])\n",
      "48000\n",
      "torch.Size([2, 998212])\n",
      "48000\n",
      "torch.Size([2, 1220260])\n",
      "48000\n",
      "torch.Size([2, 1158646])\n",
      "48000\n",
      "torch.Size([2, 3168000])\n",
      "48000\n",
      "torch.Size([2, 2784000])\n",
      "48000\n",
      "torch.Size([2, 3984000])\n",
      "48000\n",
      "torch.Size([2, 1827840])\n",
      "48000\n",
      "torch.Size([2, 2400000])\n",
      "48000\n",
      "torch.Size([2, 2688000])\n",
      "48000\n",
      "torch.Size([2, 5280000])\n",
      "48000\n",
      "torch.Size([2, 1440000])\n",
      "48000\n",
      "torch.Size([2, 1008000])\n",
      "48000\n",
      "torch.Size([2, 1296000])\n",
      "48000\n",
      "torch.Size([2, 3796992])\n",
      "48000\n",
      "torch.Size([2, 3216000])\n",
      "48000\n",
      "torch.Size([2, 1363968])\n",
      "48000\n",
      "torch.Size([2, 1737449])\n",
      "48000\n",
      "torch.Size([2, 864000])\n",
      "48000\n"
     ]
    }
   ],
   "source": [
    "for i in range(0, len(data1)):\n",
    "    data1[i]= resample(data1[i], 48000)\n",
    "\n",
    "for i in range(0, len(data1)):\n",
    "    print(data1[i][0].shape)\n",
    "    print(data1[i][1])"
   ]
  },
  {
   "cell_type": "code",
   "execution_count": 1592,
   "metadata": {},
   "outputs": [
    {
     "name": "stdout",
     "output_type": "stream",
     "text": [
      "torch.Size([2, 842265])\n"
     ]
    },
    {
     "data": {
      "text/plain": [
       "5280000"
      ]
     },
     "execution_count": 1592,
     "metadata": {},
     "output_type": "execute_result"
    }
   ],
   "source": [
    "print(data1[0][0].shape)\n",
    "# does padding 0s affect output\n",
    "maximum = 0\n",
    "for data in data1:\n",
    "    maximum =  max(data[0].shape[1], maximum)\n",
    "maximum\n"
   ]
  },
  {
   "cell_type": "code",
   "execution_count": 1593,
   "metadata": {},
   "outputs": [],
   "source": [
    "  def pad_trunc(aud, max_ms):\n",
    "    sig, sr = aud\n",
    "    num_rows, sig_len = sig.shape\n",
    "    max_len = sr//1000 * max_ms\n",
    "\n",
    "    if (sig_len > max_len):\n",
    "      # Truncate the signal to the given length\n",
    "      print(\"hill\")\n",
    "      sig = sig[:,:max_len]\n",
    "\n",
    "    elif (sig_len < max_len):\n",
    "      print(\"hi\")\n",
    "      # Length of padding to add at the beginning and end of the signal\n",
    "      #pad_begin_len = random.randint(0, max_len - sig_len)\n",
    "      pad_end_len = max_len - sig_len\n",
    "\n",
    "      # Pad with 0s\n",
    "     # pad_begin = torch.zeros((num_rows, pad_begin_len))\n",
    "      pad_end = torch.zeros((num_rows, pad_end_len))\n",
    "\n",
    "      sig = torch.cat(( sig, pad_end), 1)\n",
    "      \n",
    "    return (sig, sr)"
   ]
  },
  {
   "cell_type": "code",
   "execution_count": 1594,
   "metadata": {},
   "outputs": [
    {
     "name": "stdout",
     "output_type": "stream",
     "text": [
      "torch.Size([2, 842265])\n",
      "48000\n",
      "torch.Size([2, 774006])\n",
      "48000\n",
      "torch.Size([2, 1277702])\n",
      "48000\n",
      "torch.Size([2, 875993])\n",
      "48000\n",
      "torch.Size([2, 885166])\n",
      "48000\n",
      "torch.Size([2, 755854])\n",
      "48000\n",
      "torch.Size([2, 1173704])\n",
      "48000\n",
      "torch.Size([2, 1865964])\n",
      "48000\n",
      "torch.Size([2, 1150239])\n",
      "48000\n",
      "torch.Size([2, 998212])\n",
      "48000\n",
      "torch.Size([2, 1220260])\n",
      "48000\n",
      "torch.Size([2, 1158646])\n",
      "48000\n",
      "torch.Size([2, 3168000])\n",
      "48000\n",
      "torch.Size([2, 2784000])\n",
      "48000\n",
      "torch.Size([2, 3984000])\n",
      "48000\n",
      "torch.Size([2, 1827840])\n",
      "48000\n",
      "torch.Size([2, 2400000])\n",
      "48000\n",
      "torch.Size([2, 2688000])\n",
      "48000\n",
      "torch.Size([2, 5280000])\n",
      "48000\n",
      "torch.Size([2, 1440000])\n",
      "48000\n",
      "torch.Size([2, 1008000])\n",
      "48000\n",
      "torch.Size([2, 1296000])\n",
      "48000\n",
      "torch.Size([2, 3796992])\n",
      "48000\n",
      "torch.Size([2, 3216000])\n",
      "48000\n",
      "torch.Size([2, 1363968])\n",
      "48000\n",
      "torch.Size([2, 1737449])\n",
      "48000\n",
      "torch.Size([2, 864000])\n",
      "48000\n"
     ]
    }
   ],
   "source": [
    "\n",
    "for i in range(0, len(data1)):\n",
    "    print(data1[i][0].shape)\n",
    "    print(data1[i][1])"
   ]
  },
  {
   "cell_type": "code",
   "execution_count": 1595,
   "metadata": {},
   "outputs": [
    {
     "name": "stdout",
     "output_type": "stream",
     "text": [
      "hill\n",
      "hill\n",
      "hill\n",
      "hill\n",
      "hill\n",
      "hill\n",
      "hill\n",
      "hill\n",
      "hill\n",
      "hill\n",
      "hill\n",
      "hill\n",
      "hill\n",
      "hill\n",
      "hill\n",
      "hill\n",
      "hill\n",
      "hill\n",
      "hill\n",
      "hill\n",
      "hill\n",
      "hill\n",
      "hill\n",
      "hill\n",
      "hill\n",
      "hill\n",
      "hill\n"
     ]
    }
   ],
   "source": [
    "for i in range(0, len(data1)):\n",
    "    data1[i]= pad_trunc(data1[i], 5000)# amount of time each clip is\n",
    "    # ELIF STATEMENT IS BROKEN FOR SOME REASON\n",
    "    # why is it broken???\n",
    "var = 1999935"
   ]
  },
  {
   "cell_type": "code",
   "execution_count": 1596,
   "metadata": {},
   "outputs": [
    {
     "name": "stdout",
     "output_type": "stream",
     "text": [
      "torch.Size([2, 240000])\n",
      "48000\n",
      "torch.Size([2, 240000])\n",
      "48000\n",
      "torch.Size([2, 240000])\n",
      "48000\n",
      "torch.Size([2, 240000])\n",
      "48000\n",
      "torch.Size([2, 240000])\n",
      "48000\n",
      "torch.Size([2, 240000])\n",
      "48000\n",
      "torch.Size([2, 240000])\n",
      "48000\n",
      "torch.Size([2, 240000])\n",
      "48000\n",
      "torch.Size([2, 240000])\n",
      "48000\n",
      "torch.Size([2, 240000])\n",
      "48000\n",
      "torch.Size([2, 240000])\n",
      "48000\n",
      "torch.Size([2, 240000])\n",
      "48000\n",
      "torch.Size([2, 240000])\n",
      "48000\n",
      "torch.Size([2, 240000])\n",
      "48000\n",
      "torch.Size([2, 240000])\n",
      "48000\n",
      "torch.Size([2, 240000])\n",
      "48000\n",
      "torch.Size([2, 240000])\n",
      "48000\n",
      "torch.Size([2, 240000])\n",
      "48000\n",
      "torch.Size([2, 240000])\n",
      "48000\n",
      "torch.Size([2, 240000])\n",
      "48000\n",
      "torch.Size([2, 240000])\n",
      "48000\n",
      "torch.Size([2, 240000])\n",
      "48000\n",
      "torch.Size([2, 240000])\n",
      "48000\n",
      "torch.Size([2, 240000])\n",
      "48000\n",
      "torch.Size([2, 240000])\n",
      "48000\n",
      "torch.Size([2, 240000])\n",
      "48000\n",
      "torch.Size([2, 240000])\n",
      "48000\n"
     ]
    }
   ],
   "source": [
    "for i in range(0, len(data1)):\n",
    "    print(data1[i][0].shape)\n",
    "    print(data1[i][1])"
   ]
  },
  {
   "cell_type": "code",
   "execution_count": 1597,
   "metadata": {},
   "outputs": [
    {
     "name": "stdout",
     "output_type": "stream",
     "text": [
      "27\n"
     ]
    }
   ],
   "source": [
    "print(len(data1))"
   ]
  },
  {
   "cell_type": "code",
   "execution_count": 1598,
   "metadata": {},
   "outputs": [
    {
     "name": "stdout",
     "output_type": "stream",
     "text": [
      "<class 'torch.Tensor'>\n"
     ]
    }
   ],
   "source": [
    "print(type(data1[0][0]))"
   ]
  },
  {
   "cell_type": "code",
   "execution_count": 1599,
   "metadata": {},
   "outputs": [],
   "source": [
    "# # remove talking from recordings\n",
    "\n",
    "# to_remove = 48000 * 8\n",
    "# length = 48000 * 30\n",
    "# data3 = []\n",
    "# to_removeOther = 48000 * 22\n",
    "# #data3 = np.array(data3)\n",
    "# for i in range(0, len(data1)- len(mixedRecordings)):# - len(testingPaths) \n",
    "#     samples, rates = data1[i]\n",
    "#     lst1= samples[0].numpy()\n",
    "#     lst2= samples[1].numpy()\n",
    "#     lst1 = lst1[to_remove:]\n",
    "#     lst2 = lst2[to_remove:]\n",
    "#     lst = [lst1, lst2]\n",
    "#     lst = np.array(lst) #makes it much faster\n",
    "#     lst = torch.tensor(lst)\n",
    "#     data3.append((lst, 48000))\n",
    "# for i in range(len(data1) - len(mixedRecordings), len(data1)):# - len(testingPaths) \n",
    "#     samples, rates = data1[i]\n",
    "#     lst1= samples[0].numpy()\n",
    "#     lst2= samples[1].numpy()\n",
    "#     lst1 = lst1[: to_removeOther]\n",
    "#     lst2 = lst2[: to_removeOther]\n",
    "#     lst = [lst1, lst2]\n",
    "#     lst = np.array(lst) #makes it much faster\n",
    "#     lst = torch.tensor(lst)\n",
    "#     data3.append((lst, 48000))\n",
    "# # remove back 8 seconds from non-mandookavani recordings\n",
    "# for i in range(0, len(data1)- len(mixedRecordings)):# - len(testingPaths) \n",
    "#     print(data3[i][0].shape)\n",
    "#     print(data3[i][1])\n",
    "# len(data3)"
   ]
  },
  {
   "cell_type": "code",
   "execution_count": 1600,
   "metadata": {},
   "outputs": [],
   "source": [
    "data3 = data1"
   ]
  },
  {
   "cell_type": "code",
   "execution_count": 1601,
   "metadata": {},
   "outputs": [
    {
     "name": "stdout",
     "output_type": "stream",
     "text": [
      "27\n"
     ]
    }
   ],
   "source": [
    "print(len(data1))"
   ]
  },
  {
   "cell_type": "code",
   "execution_count": 1602,
   "metadata": {},
   "outputs": [
    {
     "name": "stdout",
     "output_type": "stream",
     "text": [
      "27\n"
     ]
    }
   ],
   "source": [
    "print(len(data3))\n",
    "mixedData = data3[len(data3) - len(mixedRecordings):]\n",
    "data3 = data3[:len(data3) - len(mixedRecordings)]\n"
   ]
  },
  {
   "cell_type": "code",
   "execution_count": 1603,
   "metadata": {},
   "outputs": [
    {
     "data": {
      "text/plain": [
       "15"
      ]
     },
     "execution_count": 1603,
     "metadata": {},
     "output_type": "execute_result"
    }
   ],
   "source": [
    "len(data3)"
   ]
  },
  {
   "cell_type": "code",
   "execution_count": 1604,
   "metadata": {},
   "outputs": [
    {
     "name": "stdout",
     "output_type": "stream",
     "text": [
      "<class 'list'>\n"
     ]
    }
   ],
   "source": [
    "print(type(data3))"
   ]
  },
  {
   "cell_type": "code",
   "execution_count": 1605,
   "metadata": {},
   "outputs": [
    {
     "name": "stdout",
     "output_type": "stream",
     "text": [
      "15\n"
     ]
    },
    {
     "data": {
      "text/plain": [
       "12"
      ]
     },
     "execution_count": 1605,
     "metadata": {},
     "output_type": "execute_result"
    }
   ],
   "source": [
    "# time shift\n",
    "def time_shift(aud, shift_limit):\n",
    "    sig,sr = aud\n",
    "    sig_len = aud[1]\n",
    "    shift_amt = int(random.random() * shift_limit * sig_len)\n",
    "    print(type(sig))\n",
    "    return (sig.roll(shift_amt), sr)\n",
    "print(len(data3))\n",
    "len(mixedData)"
   ]
  },
  {
   "cell_type": "code",
   "execution_count": 1606,
   "metadata": {},
   "outputs": [
    {
     "name": "stdout",
     "output_type": "stream",
     "text": [
      "torch.Size([240000])\n"
     ]
    }
   ],
   "source": [
    "print(data1[0][0][1].shape)"
   ]
  },
  {
   "cell_type": "code",
   "execution_count": 1607,
   "metadata": {},
   "outputs": [],
   "source": [
    " def noise_injection(data,noise_levels=(0, 0.5)):\n",
    "        sound, sr = data\n",
    "        print(type(sound[0][0]))\n",
    "        noise_level = np.random.uniform(*noise_levels)\n",
    "        noise = np.random.randn(len(sound[0]))\n",
    "        sound = np.array(sound)\n",
    "      \n",
    "        augmented_sound = sound + noise_level * noise\n",
    "        # Cast back to same data type\n",
    "        augmented_sound = augmented_sound.astype(type(sound[0]))\n",
    "        augmented_sound = torch.from_numpy(sound)\n",
    "        print(type(augmented_sound))\n",
    "        return (augmented_sound, sr)\n",
    "   "
   ]
  },
  {
   "cell_type": "code",
   "execution_count": 1608,
   "metadata": {},
   "outputs": [],
   "source": [
    "def perform_noise_injections(times, data, length):\n",
    "    for i in range(times):\n",
    "        for i in range(length):\n",
    "            data.append(noise_injection(data[i]))\n",
    "        print(\"hi\")\n",
    "    return data"
   ]
  },
  {
   "cell_type": "code",
   "execution_count": 1609,
   "metadata": {},
   "outputs": [],
   "source": [
    "def perform_timeShifts(times, data, length):\n",
    "    for i in range(times):\n",
    "        for i in range(length):\n",
    "            data.append(time_shift(data[i], .5))\n",
    "        \n",
    "    return data"
   ]
  },
  {
   "cell_type": "code",
   "execution_count": 1610,
   "metadata": {},
   "outputs": [
    {
     "name": "stdout",
     "output_type": "stream",
     "text": [
      "15\n"
     ]
    }
   ],
   "source": [
    "print(len(data3))"
   ]
  },
  {
   "cell_type": "code",
   "execution_count": 1611,
   "metadata": {},
   "outputs": [
    {
     "data": {
      "text/plain": [
       "15"
      ]
     },
     "execution_count": 1611,
     "metadata": {},
     "output_type": "execute_result"
    }
   ],
   "source": [
    "TIMES = 100\n",
    "#data3 = perform_timeShifts(1, data3, 15)\n",
    "#mixedData = perform_timeShifts(TIMES * 2, mixedData)\n",
    "\n",
    "len(data3)"
   ]
  },
  {
   "cell_type": "code",
   "execution_count": 1612,
   "metadata": {},
   "outputs": [],
   "source": [
    " #data3 = perform_noise_injections(1, data3, 15)"
   ]
  },
  {
   "cell_type": "code",
   "execution_count": 1613,
   "metadata": {},
   "outputs": [
    {
     "data": {
      "text/plain": [
       "15"
      ]
     },
     "execution_count": 1613,
     "metadata": {},
     "output_type": "execute_result"
    }
   ],
   "source": [
    "len(data3)"
   ]
  },
  {
   "cell_type": "code",
   "execution_count": 1614,
   "metadata": {},
   "outputs": [
    {
     "name": "stdout",
     "output_type": "stream",
     "text": [
      "<class 'torch.Tensor'>\n"
     ]
    }
   ],
   "source": [
    "sample = [1,2]\n",
    "sample = np.array(sample)\n",
    "sample = torch.from_numpy(sample)\n",
    "print(type(sample))"
   ]
  },
  {
   "cell_type": "code",
   "execution_count": 1615,
   "metadata": {},
   "outputs": [
    {
     "name": "stdout",
     "output_type": "stream",
     "text": [
      "12\n"
     ]
    }
   ],
   "source": [
    "print(len(mixedData))"
   ]
  },
  {
   "cell_type": "code",
   "execution_count": 1616,
   "metadata": {},
   "outputs": [
    {
     "name": "stdout",
     "output_type": "stream",
     "text": [
      "<class 'list'>\n"
     ]
    }
   ],
   "source": [
    "print(type(mixedData))"
   ]
  },
  {
   "cell_type": "code",
   "execution_count": 1617,
   "metadata": {},
   "outputs": [],
   "source": [
    "# #print(data3[4000][0][0][30000])\n",
    "# print(type(mixedData[0][0][0]))\n",
    "# print()\n",
    "# for i in range(15):\n",
    "    \n",
    "#     new_data = mixedData[i]\n",
    "#     pads = torch.zeros(new_data[1] * 22 - new_data[1] * 6)\n",
    "#     lastPadding = torch.zeros(new_data[1] * 18)\n",
    "#     #print(type(data))\n",
    "#     #print(type(new_data[0][0].numpy()))\n",
    "#   #  new_data[0][0] = new_data[0][0].numpy()\n",
    "#     #new_data[0][1] = np.array(new_data[0][1])\n",
    "#     #print(type(torch.from_numpy(new_data[0][0].numpy()[:new_data[1] * 6])))\n",
    "#     new_data[0][0] = torch.cat((torch.from_numpy(new_data[0][0].numpy()[:new_data[1] * 6]), pads))\n",
    "#     new_data[0][1] = torch.cat((torch.from_numpy(new_data[0][1].numpy()[:new_data[1] * 6]), pads))\n",
    "#    # print(mixedData.shape, new_data.shape)\n",
    "#     print(\"1\")\n",
    "#     mixedData.append(new_data)\n",
    "#     print(\"2\")\n",
    "#     new_data[0][0] = torch.cat((torch.from_numpy(new_data[0][0].numpy()[new_data[1] * 6:new_data[1] * 12]), pads))\n",
    "#     new_data[0][1] = torch.cat((torch.from_numpy(new_data[0][1].numpy()[new_data[1] * 6:new_data[1] * 12]), pads))\n",
    "#     mixedData.append(new_data)\n",
    "#     new_data[0][0] = torch.cat((torch.from_numpy(new_data[0][0].numpy()[new_data[1] * 12: new_data[1] * 18]), pads))\n",
    "#     new_data[0][1] = torch.cat((torch.from_numpy(new_data[0][1].numpy()[new_data[1] * 12: new_data[1] * 18]), pads))\n",
    "#     #print(data[0].shape)\n",
    "#     mixedData.append(new_data)\n",
    "#     new_data[0][0] = torch.cat((torch.from_numpy(new_data[0][0].numpy()[new_data[1] * 18:]), lastPadding))\n",
    "#     new_data[0][1] = torch.cat((torch.from_numpy(new_data[0][1].numpy()[new_data[1] * 18:]), lastPadding))\n",
    "#     mixedData.append(new_data)\n",
    "#     print(i) "
   ]
  },
  {
   "cell_type": "code",
   "execution_count": 1618,
   "metadata": {},
   "outputs": [
    {
     "name": "stdout",
     "output_type": "stream",
     "text": [
      "12\n"
     ]
    }
   ],
   "source": [
    "print(len(mixedData))"
   ]
  },
  {
   "cell_type": "code",
   "execution_count": 1619,
   "metadata": {},
   "outputs": [],
   "source": [
    " #mixedData = perform_timeShifts(2, mixedData, 500)"
   ]
  },
  {
   "cell_type": "code",
   "execution_count": 1620,
   "metadata": {},
   "outputs": [],
   "source": [
    "# mixedData = perform_noise_injections(2, mixedData, 500)"
   ]
  },
  {
   "cell_type": "code",
   "execution_count": 1621,
   "metadata": {},
   "outputs": [
    {
     "name": "stdout",
     "output_type": "stream",
     "text": [
      "12\n"
     ]
    }
   ],
   "source": [
    "print(len(mixedData))"
   ]
  },
  {
   "cell_type": "code",
   "execution_count": null,
   "metadata": {},
   "outputs": [],
   "source": []
  },
  {
   "cell_type": "code",
   "execution_count": 1622,
   "metadata": {},
   "outputs": [
    {
     "name": "stdout",
     "output_type": "stream",
     "text": [
      "12\n"
     ]
    }
   ],
   "source": [
    "print(len(mixedData))"
   ]
  },
  {
   "cell_type": "code",
   "execution_count": 1623,
   "metadata": {},
   "outputs": [],
   "source": [
    "# testing_labels = [21, 65, 7]\n",
    "# for i in range(TIMES * 4):\n",
    "#     testing_labels.extend([21,65,7])\n",
    "# # # creating testing labels\n",
    "# #MIXED RECORDINGS"
   ]
  },
  {
   "cell_type": "code",
   "execution_count": 1624,
   "metadata": {},
   "outputs": [],
   "source": [
    "# testingLabels = []\n",
    "# testingLabels.extend([0, 11, 15, 2, 2, 2, 25, 25, 30, 38, 39, 4, 41, 58, 9])\n",
    "# # for i in range(15):\n",
    "# #     testingLabels.extend([testingLabels[i],testingLabels[i], testingLabels[i], testingLabels[i] ])\n",
    "# for i in range(TIMES):\n",
    "#     testingLabels.extend([0, 11, 15, 2, 2, 2, 25, 25, 30, 38, 39, 4, 41, 58, 9])\n"
   ]
  },
  {
   "cell_type": "code",
   "execution_count": 1625,
   "metadata": {},
   "outputs": [],
   "source": [
    "#print(len(testingLabels))"
   ]
  },
  {
   "cell_type": "code",
   "execution_count": 1626,
   "metadata": {},
   "outputs": [],
   "source": [
    "instantLabel = [0, 1, 2, 3, 4, 5, 6, 7, 8, 9, 10, 11, 3, 3, 4]\n",
    "#[0, 11, 15, 2, 25, 30, 38, 39, 4, 41, 58, 9, 2, 2, 25]\n",
    "labels = []\n",
    "labels.extend(instantLabel)\n",
    "# for i in range(2):\n",
    "#      labels.extend(instantLabel)\n",
    "    #print(len(labels))\n",
    "   \n",
    "   # labels.extend(testingLabels)\n",
    "# for i in range(len(labels)):\n",
    "#         labels[i] = int(labels[i])\n",
    "\n",
    "# for i in range(0, 4):\n",
    "#       print(labels[74])\n",
    "#       #0, 30, 51, 9"
   ]
  },
  {
   "cell_type": "code",
   "execution_count": 1627,
   "metadata": {},
   "outputs": [],
   "source": [
    "\n",
    "# labels1 = []\n",
    "# labels1.extend(updatedTestingLabels)\n",
    "# # for i in range(4):\n",
    "# #      labels1.extend(updatedTestingLabels)"
   ]
  },
  {
   "cell_type": "code",
   "execution_count": 1628,
   "metadata": {},
   "outputs": [],
   "source": [
    "# print(updatedTrainingLabels[30])"
   ]
  },
  {
   "cell_type": "code",
   "execution_count": 1629,
   "metadata": {},
   "outputs": [],
   "source": [
    "# mel spectrogram turning its hyperparameters\n",
    "def spectro_gram(aud, n_mels=64, n_fft=1024, hop_len=None):\n",
    "    sig,sr = aud\n",
    "    top_db = 80\n",
    "\n",
    "    # spec has shape [channel, n_mels, time], where channel is mono, stereo etc\n",
    "    spec = transforms.MelSpectrogram(sr, n_fft=n_fft, hop_length=hop_len, n_mels=n_mels)(sig)\n",
    "\n",
    "    # Convert to decibels\n",
    "    spec = transforms.AmplitudeToDB(top_db=top_db)(spec)\n",
    "    return (spec)"
   ]
  },
  {
   "cell_type": "code",
   "execution_count": null,
   "metadata": {},
   "outputs": [],
   "source": []
  },
  {
   "cell_type": "code",
   "execution_count": 1630,
   "metadata": {},
   "outputs": [
    {
     "name": "stdout",
     "output_type": "stream",
     "text": [
      "27\n",
      "hi\n"
     ]
    },
    {
     "name": "stderr",
     "output_type": "stream",
     "text": [
      "C:\\Users\\anand\\AppData\\Local\\Temp\\ipykernel_16624\\1843991304.py:19: FutureWarning: The input object of type 'Tensor' is an array-like implementing one of the corresponding protocols (`__array__`, `__array_interface__` or `__array_struct__`); but not a sequence (or 0-D). In the future, this object will be coerced as if it was first converted using `np.array(obj)`. To retain the old behaviour, you have to either modify the type 'Tensor', or assign to an empty array created with `np.empty(correct_shape, dtype=object)`.\n",
      "  melData = np.array(melData)\n",
      "C:\\Users\\anand\\AppData\\Local\\Temp\\ipykernel_16624\\1843991304.py:19: VisibleDeprecationWarning: Creating an ndarray from ragged nested sequences (which is a list-or-tuple of lists-or-tuples-or ndarrays with different lengths or shapes) is deprecated. If you meant to do this, you must specify 'dtype=object' when creating the ndarray.\n",
      "  melData = np.array(melData)\n"
     ]
    }
   ],
   "source": [
    "melData = []\n",
    "tf_data = []\n",
    "data3.extend(mixedData)\n",
    "print(len(data3))\n",
    "\n",
    "for data in data3:\n",
    "    \n",
    "    specto = spectro_gram(data)\n",
    "    \n",
    "    melData.append(specto)\n",
    "   \n",
    "    # num_channels, num_mels, time\n",
    "print(\"hi\")\n",
    "for data in melData:\n",
    "    \n",
    "    #np_array = data.numpy()# DO I HAVE TO DO THIS LINE?\n",
    "    np_array = np.array(data)\n",
    "    tf_data.append(np_array)\n",
    "melData = np.array(melData)\n",
    "\n"
   ]
  },
  {
   "cell_type": "code",
   "execution_count": 1631,
   "metadata": {},
   "outputs": [],
   "source": [
    "  # ----------------------------\n",
    "  # Augment the Spectrogram by masking out some sections of it in both the frequency\n",
    "  # dimension (ie. horizontal bars) and the time dimension (vertical bars) to prevent\n",
    "  # overfitting and to help the model generalise better. The masked sections are\n",
    "  # replaced with the mean value.\n",
    "  # ----------------------------\n",
    "\n",
    "  def spectro_augment(spec, max_mask_pct=0.1, n_freq_masks=1, n_time_masks=1):\n",
    "    _, n_mels, n_steps = spec.shape\n",
    "    mask_value = spec.mean()\n",
    "    aug_spec = spec\n",
    "\n",
    "    freq_mask_param = max_mask_pct * n_mels\n",
    "    for _ in range(n_freq_masks):\n",
    "      aug_spec = transforms.FrequencyMasking(freq_mask_param)(aug_spec, mask_value)\n",
    "\n",
    "    time_mask_param = max_mask_pct * n_steps\n",
    "    for _ in range(n_time_masks):\n",
    "      aug_spec = transforms.TimeMasking(time_mask_param)(aug_spec, mask_value)\n",
    "    return aug_spec"
   ]
  },
  {
   "cell_type": "code",
   "execution_count": 1632,
   "metadata": {},
   "outputs": [
    {
     "name": "stdout",
     "output_type": "stream",
     "text": [
      "<class 'numpy.ndarray'>\n"
     ]
    }
   ],
   "source": [
    "print(type(spectro_augment(torch.from_numpy(tf_data[0])).numpy()))"
   ]
  },
  {
   "cell_type": "code",
   "execution_count": 1633,
   "metadata": {},
   "outputs": [],
   "source": [
    "mixedData = tf_data[len(tf_data) - len(mixedData):]\n",
    "tf_data = tf_data[:len(tf_data) - len(mixedData)]"
   ]
  },
  {
   "cell_type": "code",
   "execution_count": null,
   "metadata": {},
   "outputs": [],
   "source": []
  },
  {
   "cell_type": "code",
   "execution_count": 1634,
   "metadata": {},
   "outputs": [
    {
     "name": "stdout",
     "output_type": "stream",
     "text": [
      "15\n"
     ]
    }
   ],
   "source": [
    "print(len(labels))"
   ]
  },
  {
   "cell_type": "code",
   "execution_count": 1635,
   "metadata": {},
   "outputs": [],
   "source": [
    "# initialLen = len(tf_data)\n",
    "# for i in range(initialLen):   \n",
    " \n",
    "#     tf_data.append(spectro_augment(torch.from_numpy(tf_data[i])).numpy())\n",
    "    \n"
   ]
  },
  {
   "cell_type": "code",
   "execution_count": 1636,
   "metadata": {},
   "outputs": [],
   "source": [
    "# labels2 = labels\n",
    "# labels.extend(labels2)\n",
    "# #labels.extend(testingLabels)"
   ]
  },
  {
   "cell_type": "code",
   "execution_count": 1637,
   "metadata": {},
   "outputs": [],
   "source": [
    "    # mixedData = list(mixedData)\n",
    "    # initialLen = len(mixedData)\n",
    "    # for i in range(initialLen): \n",
    "  \n",
    "    #     mixedData.append(spectro_augment(torch.from_numpy(mixedData[i])).numpy())"
   ]
  },
  {
   "cell_type": "code",
   "execution_count": 1638,
   "metadata": {},
   "outputs": [],
   "source": [
    "# labels2 = testingLabels\n",
    "# testingLabels.extend(labels2)\n"
   ]
  },
  {
   "cell_type": "code",
   "execution_count": 1639,
   "metadata": {},
   "outputs": [
    {
     "name": "stdout",
     "output_type": "stream",
     "text": [
      "12\n"
     ]
    }
   ],
   "source": [
    "print(len(testingLabels))"
   ]
  },
  {
   "cell_type": "code",
   "execution_count": 1640,
   "metadata": {},
   "outputs": [
    {
     "name": "stdout",
     "output_type": "stream",
     "text": [
      "(2, 64, 469)\n",
      "(2, 64, 469)\n",
      "(2, 64, 469)\n",
      "(2, 64, 469)\n",
      "(2, 64, 469)\n",
      "(2, 64, 469)\n",
      "(2, 64, 469)\n",
      "(2, 64, 469)\n",
      "(2, 64, 469)\n",
      "(2, 64, 469)\n",
      "(2, 64, 469)\n",
      "(2, 64, 469)\n",
      "(2, 64, 469)\n",
      "(2, 64, 469)\n",
      "(2, 64, 469)\n"
     ]
    }
   ],
   "source": [
    "for data in tf_data:\n",
    "    print(data.shape)"
   ]
  },
  {
   "cell_type": "code",
   "execution_count": 1641,
   "metadata": {},
   "outputs": [],
   "source": [
    "\n",
    "tf_data = np.array(tf_data)\n",
    "                   "
   ]
  },
  {
   "cell_type": "code",
   "execution_count": 1642,
   "metadata": {},
   "outputs": [
    {
     "name": "stdout",
     "output_type": "stream",
     "text": [
      "15\n",
      "3.15\n"
     ]
    }
   ],
   "source": [
    "print(len(tf_data))\n",
    "print(.21\n",
    "       * len(tf_data))"
   ]
  },
  {
   "cell_type": "code",
   "execution_count": 1643,
   "metadata": {},
   "outputs": [
    {
     "name": "stdout",
     "output_type": "stream",
     "text": [
      "15\n",
      "15\n"
     ]
    }
   ],
   "source": [
    "# labels = np.array(labels)\n",
    "#testingLabels = np.array(testingLabels)\n",
    "\n",
    "# training_data = tf_data[:len(data3) - len(mixedData)]\n",
    "# testing_data = tf_data[len(data3) - len(mixedData):]\n",
    "# training_labels = labels\n",
    "\n",
    "#mixedData = tf_data[len(tf_data) - len(mixedData):]\n",
    "#tf_data = tf_data[: len(tf_data) - len(mixedData)]'\n",
    "# should i increase the amount of sample in testing set\n",
    "print(len(tf_data))\n",
    "print(len(labels))\n",
    "breakdown = int(.79\n",
    "                *len(tf_data))\n",
    "training_data = tf_data\n",
    "#testing_data = tf_data[breakdown:]\n",
    "training_labels = labels\n",
    "training_labels = np.array(training_labels)\n",
    "# testing_labels = labels[breakdown: ]# numpy arrays with numpy integer\n",
    "testing_data = mixedData\n",
    "testing_labels = testingLabels\n"
   ]
  },
  {
   "cell_type": "code",
   "execution_count": 1644,
   "metadata": {},
   "outputs": [
    {
     "name": "stdout",
     "output_type": "stream",
     "text": [
      "<class 'numpy.ndarray'>\n"
     ]
    }
   ],
   "source": [
    "\n",
    "# use a pretrained model  AlexNet, Mobilenet, Xception\n",
    "# research neural networks \n",
    "\n",
    "print(type(training_data))\n",
    "testing_labels = np.array(testing_labels)"
   ]
  },
  {
   "cell_type": "code",
   "execution_count": 1645,
   "metadata": {},
   "outputs": [
    {
     "name": "stdout",
     "output_type": "stream",
     "text": [
      "12\n"
     ]
    }
   ],
   "source": [
    "print(len(testing_labels))"
   ]
  },
  {
   "cell_type": "code",
   "execution_count": 1646,
   "metadata": {},
   "outputs": [
    {
     "name": "stdout",
     "output_type": "stream",
     "text": [
      "9\n"
     ]
    }
   ],
   "source": [
    "print(testing_labels[9\n",
    "                     ])"
   ]
  },
  {
   "cell_type": "code",
   "execution_count": 1647,
   "metadata": {},
   "outputs": [],
   "source": [
    "# def tensor_to_img(spectrogram): \n",
    "#     plt.imshow(spectrogram[0],aspect='auto', origin='lower')\n",
    "#     plt.show();\n",
    "#     display(spectrogram.shape)\n",
    "# tensor_to_img(testing_data[138])"
   ]
  },
  {
   "cell_type": "code",
   "execution_count": 1648,
   "metadata": {},
   "outputs": [],
   "source": [
    "mixedData = np.array(mixedData)\n",
    "\n",
    "#testing_data = np.concatenate((testing_data, mixedData))\n",
    "#testing_labels = np.concatenate((testing_labels, testingLabels))\n"
   ]
  },
  {
   "cell_type": "code",
   "execution_count": 1649,
   "metadata": {},
   "outputs": [
    {
     "name": "stdout",
     "output_type": "stream",
     "text": [
      "<class 'numpy.ndarray'>\n"
     ]
    }
   ],
   "source": [
    "testing_data = np.array(testing_data)\n",
    "print(type(testing_labels))"
   ]
  },
  {
   "cell_type": "code",
   "execution_count": 1650,
   "metadata": {},
   "outputs": [
    {
     "name": "stdout",
     "output_type": "stream",
     "text": [
      "(15, 64, 469, 2)\n"
     ]
    }
   ],
   "source": [
    "training_data = np.rollaxis(training_data,1,3)  \n",
    "training_data = np.rollaxis(training_data,3,2)  \n",
    "print(training_data.shape)"
   ]
  },
  {
   "cell_type": "code",
   "execution_count": 1651,
   "metadata": {},
   "outputs": [
    {
     "name": "stdout",
     "output_type": "stream",
     "text": [
      "(12, 64, 469, 2)\n"
     ]
    }
   ],
   "source": [
    "testing_data = np.rollaxis(testing_data,1,3)  \n",
    "testing_data = np.rollaxis(testing_data,3,2)  \n",
    "print(testing_data.shape)"
   ]
  },
  {
   "cell_type": "code",
   "execution_count": 1652,
   "metadata": {},
   "outputs": [
    {
     "name": "stderr",
     "output_type": "stream",
     "text": [
      "C:\\Users\\anand\\AppData\\Roaming\\Python\\Python311\\site-packages\\keras\\optimizers\\legacy\\adam.py:117: UserWarning: The `lr` argument is deprecated, use `learning_rate` instead.\n",
      "  super().__init__(name, **kwargs)\n"
     ]
    }
   ],
   "source": [
    "import keras\n",
    "optimizer = keras.optimizers.Adam(lr=0.00001)"
   ]
  },
  {
   "cell_type": "code",
   "execution_count": 1653,
   "metadata": {},
   "outputs": [],
   "source": [
    "\n",
    "    model = models.Sequential()\n",
    "    model.add(layers.Conv2D(32, (3,3), activation='relu', input_shape=( 64, 469, 2) ))\n",
    "    model.add(layers.MaxPooling2D((2,2)))\n",
    "    model.add(layers.Conv2D(64, (3,3), activation='relu'))\n",
    "    model.add(layers.MaxPooling2D((2,2)))\n",
    "    model.add(layers.Conv2D(64, (3,3), activation='relu'))\n",
    "    model.add(layers.MaxPooling2D((2,2)))\n",
    "    model.add(layers.Conv2D(128, (3,3), activation='relu'))\n",
    "    model.add(layers.MaxPooling2D((2,2)))\n",
    "   # model.add(layers.Conv2D(128, (3,3), activation='relu'))\n",
    "    #model.add(layers.Conv2D(128, (1,1), activation='relu'))\n",
    "    \n",
    "    model.add(layers.Flatten())\n",
    "    model.add(layers.Dense(64, activation='relu'))\n",
    "    #model.add(layers.Dropout(.25))\n",
    "#dropout.  1    \n",
    "    model.add(layers.Dense(12, activation = 'softmax'))"
   ]
  },
  {
   "cell_type": "code",
   "execution_count": 1654,
   "metadata": {},
   "outputs": [
    {
     "name": "stdout",
     "output_type": "stream",
     "text": [
      "15\n"
     ]
    }
   ],
   "source": [
    "print(len(training_data))\n"
   ]
  },
  {
   "cell_type": "code",
   "execution_count": 1655,
   "metadata": {},
   "outputs": [
    {
     "name": "stdout",
     "output_type": "stream",
     "text": [
      "Epoch 1/60\n"
     ]
    },
    {
     "name": "stderr",
     "output_type": "stream",
     "text": [
      "C:\\Users\\anand\\AppData\\Roaming\\Python\\Python311\\site-packages\\keras\\backend.py:5612: UserWarning: \"`sparse_categorical_crossentropy` received `from_logits=True`, but the `output` argument was produced by a Softmax activation and thus does not represent logits. Was this intended?\n",
      "  output, from_logits = _get_logits(\n"
     ]
    },
    {
     "name": "stdout",
     "output_type": "stream",
     "text": [
      "1/1 [==============================] - 1s 728ms/step - loss: 6.6570 - accuracy: 0.0667 - val_loss: 6.0652 - val_accuracy: 0.0833\n",
      "Epoch 2/60\n",
      "1/1 [==============================] - 0s 221ms/step - loss: 6.2374 - accuracy: 0.0000e+00 - val_loss: 5.7383 - val_accuracy: 0.0833\n",
      "Epoch 3/60\n",
      "1/1 [==============================] - 0s 224ms/step - loss: 5.8901 - accuracy: 0.0000e+00 - val_loss: 5.4600 - val_accuracy: 0.0833\n",
      "Epoch 4/60\n",
      "1/1 [==============================] - 0s 232ms/step - loss: 5.5846 - accuracy: 0.0000e+00 - val_loss: 5.2218 - val_accuracy: 0.0833\n",
      "Epoch 5/60\n"
     ]
    },
    {
     "name": "stdout",
     "output_type": "stream",
     "text": [
      "1/1 [==============================] - 0s 230ms/step - loss: 5.3033 - accuracy: 0.0667 - val_loss: 5.0145 - val_accuracy: 0.0833\n",
      "Epoch 6/60\n",
      "1/1 [==============================] - 0s 242ms/step - loss: 5.0387 - accuracy: 0.0667 - val_loss: 4.8370 - val_accuracy: 0.0833\n",
      "Epoch 7/60\n",
      "1/1 [==============================] - 0s 211ms/step - loss: 4.7987 - accuracy: 0.0000e+00 - val_loss: 4.6867 - val_accuracy: 0.0833\n",
      "Epoch 8/60\n",
      "1/1 [==============================] - 0s 225ms/step - loss: 4.5792 - accuracy: 0.0000e+00 - val_loss: 4.5623 - val_accuracy: 0.0833\n",
      "Epoch 9/60\n",
      "1/1 [==============================] - 0s 208ms/step - loss: 4.3755 - accuracy: 0.0667 - val_loss: 4.4592 - val_accuracy: 0.0833\n",
      "Epoch 10/60\n",
      "1/1 [==============================] - 0s 229ms/step - loss: 4.1847 - accuracy: 0.0667 - val_loss: 4.3688 - val_accuracy: 0.0833\n",
      "Epoch 11/60\n",
      "1/1 [==============================] - 0s 229ms/step - loss: 4.0068 - accuracy: 0.0667 - val_loss: 4.2814 - val_accuracy: 0.0833\n",
      "Epoch 12/60\n",
      "1/1 [==============================] - 0s 224ms/step - loss: 3.8379 - accuracy: 0.0667 - val_loss: 4.1928 - val_accuracy: 0.0833\n",
      "Epoch 13/60\n",
      "1/1 [==============================] - 0s 231ms/step - loss: 3.6768 - accuracy: 0.0667 - val_loss: 4.1040 - val_accuracy: 0.0833\n",
      "Epoch 14/60\n",
      "1/1 [==============================] - 0s 224ms/step - loss: 3.5206 - accuracy: 0.0667 - val_loss: 4.0168 - val_accuracy: 0.0833\n",
      "Epoch 15/60\n",
      "1/1 [==============================] - 0s 235ms/step - loss: 3.3663 - accuracy: 0.0667 - val_loss: 3.9276 - val_accuracy: 0.0833\n",
      "Epoch 16/60\n",
      "1/1 [==============================] - 0s 223ms/step - loss: 3.2146 - accuracy: 0.0667 - val_loss: 3.8350 - val_accuracy: 0.0833\n",
      "Epoch 17/60\n",
      "1/1 [==============================] - 0s 223ms/step - loss: 3.0621 - accuracy: 0.1333 - val_loss: 3.7370 - val_accuracy: 0.0833\n",
      "Epoch 18/60\n",
      "1/1 [==============================] - 0s 210ms/step - loss: 2.9117 - accuracy: 0.1333 - val_loss: 3.6359 - val_accuracy: 0.0833\n",
      "Epoch 19/60\n",
      "1/1 [==============================] - 0s 225ms/step - loss: 2.7742 - accuracy: 0.1333 - val_loss: 3.5405 - val_accuracy: 0.0833\n",
      "Epoch 20/60\n",
      "1/1 [==============================] - 0s 214ms/step - loss: 2.6484 - accuracy: 0.1333 - val_loss: 3.4502 - val_accuracy: 0.0833\n",
      "Epoch 21/60\n",
      "1/1 [==============================] - 0s 221ms/step - loss: 2.5345 - accuracy: 0.2667 - val_loss: 3.3706 - val_accuracy: 0.0833\n",
      "Epoch 22/60\n",
      "1/1 [==============================] - 0s 213ms/step - loss: 2.4294 - accuracy: 0.2667 - val_loss: 3.3020 - val_accuracy: 0.0833\n",
      "Epoch 23/60\n",
      "1/1 [==============================] - 0s 211ms/step - loss: 2.3330 - accuracy: 0.4000 - val_loss: 3.2476 - val_accuracy: 0.1667\n",
      "Epoch 24/60\n",
      "1/1 [==============================] - 0s 225ms/step - loss: 2.2441 - accuracy: 0.4000 - val_loss: 3.2082 - val_accuracy: 0.1667\n",
      "Epoch 25/60\n",
      "1/1 [==============================] - 0s 221ms/step - loss: 2.1612 - accuracy: 0.4000 - val_loss: 3.1852 - val_accuracy: 0.1667\n",
      "Epoch 26/60\n",
      "1/1 [==============================] - 0s 221ms/step - loss: 2.0864 - accuracy: 0.4667 - val_loss: 3.1739 - val_accuracy: 0.1667\n",
      "Epoch 27/60\n",
      "1/1 [==============================] - 0s 213ms/step - loss: 2.0192 - accuracy: 0.4667 - val_loss: 3.1679 - val_accuracy: 0.1667\n",
      "Epoch 28/60\n",
      "1/1 [==============================] - 0s 212ms/step - loss: 1.9651 - accuracy: 0.4000 - val_loss: 3.1649 - val_accuracy: 0.1667\n",
      "Epoch 29/60\n",
      "1/1 [==============================] - 0s 214ms/step - loss: 1.9194 - accuracy: 0.4000 - val_loss: 3.1643 - val_accuracy: 0.1667\n",
      "Epoch 30/60\n",
      "1/1 [==============================] - 0s 216ms/step - loss: 1.8763 - accuracy: 0.3333 - val_loss: 3.1624 - val_accuracy: 0.1667\n",
      "Epoch 31/60\n",
      "1/1 [==============================] - 0s 213ms/step - loss: 1.8333 - accuracy: 0.3333 - val_loss: 3.1561 - val_accuracy: 0.1667\n",
      "Epoch 32/60\n",
      "1/1 [==============================] - 0s 214ms/step - loss: 1.7870 - accuracy: 0.3333 - val_loss: 3.1432 - val_accuracy: 0.1667\n",
      "Epoch 33/60\n",
      "1/1 [==============================] - 0s 212ms/step - loss: 1.7375 - accuracy: 0.3333 - val_loss: 3.1234 - val_accuracy: 0.1667\n",
      "Epoch 34/60\n",
      "1/1 [==============================] - 0s 214ms/step - loss: 1.6859 - accuracy: 0.3333 - val_loss: 3.0988 - val_accuracy: 0.1667\n",
      "Epoch 35/60\n",
      "1/1 [==============================] - 0s 218ms/step - loss: 1.6326 - accuracy: 0.3333 - val_loss: 3.0690 - val_accuracy: 0.1667\n",
      "Epoch 36/60\n",
      "1/1 [==============================] - 0s 214ms/step - loss: 1.5786 - accuracy: 0.4000 - val_loss: 3.0362 - val_accuracy: 0.1667\n",
      "Epoch 37/60\n",
      "1/1 [==============================] - 0s 211ms/step - loss: 1.5272 - accuracy: 0.4000 - val_loss: 3.0037 - val_accuracy: 0.1667\n",
      "Epoch 38/60\n",
      "1/1 [==============================] - 0s 216ms/step - loss: 1.4818 - accuracy: 0.6000 - val_loss: 2.9737 - val_accuracy: 0.1667\n",
      "Epoch 39/60\n",
      "1/1 [==============================] - 0s 214ms/step - loss: 1.4409 - accuracy: 0.6667 - val_loss: 2.9483 - val_accuracy: 0.1667\n",
      "Epoch 40/60\n",
      "1/1 [==============================] - 0s 223ms/step - loss: 1.4040 - accuracy: 0.6667 - val_loss: 2.9285 - val_accuracy: 0.1667\n",
      "Epoch 41/60\n",
      "1/1 [==============================] - 0s 207ms/step - loss: 1.3698 - accuracy: 0.7333 - val_loss: 2.9129 - val_accuracy: 0.0833\n",
      "Epoch 42/60\n",
      "1/1 [==============================] - 0s 212ms/step - loss: 1.3381 - accuracy: 0.7333 - val_loss: 2.9019 - val_accuracy: 0.0833\n",
      "Epoch 43/60\n",
      "1/1 [==============================] - 0s 223ms/step - loss: 1.3083 - accuracy: 0.7333 - val_loss: 2.8979 - val_accuracy: 0.0833\n",
      "Epoch 44/60\n",
      "1/1 [==============================] - 0s 217ms/step - loss: 1.2794 - accuracy: 0.7333 - val_loss: 2.8981 - val_accuracy: 0.0833\n",
      "Epoch 45/60\n",
      "1/1 [==============================] - 0s 220ms/step - loss: 1.2512 - accuracy: 0.7333 - val_loss: 2.9018 - val_accuracy: 0.0833\n",
      "Epoch 46/60\n",
      "1/1 [==============================] - 0s 213ms/step - loss: 1.2221 - accuracy: 0.7333 - val_loss: 2.9091 - val_accuracy: 0.0833\n",
      "Epoch 47/60\n",
      "1/1 [==============================] - 0s 215ms/step - loss: 1.1929 - accuracy: 0.7333 - val_loss: 2.9190 - val_accuracy: 0.0833\n",
      "Epoch 48/60\n",
      "1/1 [==============================] - 0s 215ms/step - loss: 1.1646 - accuracy: 0.7333 - val_loss: 2.9309 - val_accuracy: 0.0833\n",
      "Epoch 49/60\n",
      "1/1 [==============================] - 0s 221ms/step - loss: 1.1369 - accuracy: 0.7333 - val_loss: 2.9452 - val_accuracy: 0.0833\n",
      "Epoch 50/60\n",
      "1/1 [==============================] - 0s 209ms/step - loss: 1.1113 - accuracy: 0.7333 - val_loss: 2.9598 - val_accuracy: 0.0833\n",
      "Epoch 51/60\n",
      "1/1 [==============================] - 0s 212ms/step - loss: 1.0869 - accuracy: 0.7333 - val_loss: 2.9743 - val_accuracy: 0.0833\n",
      "Epoch 52/60\n",
      "1/1 [==============================] - 0s 212ms/step - loss: 1.0631 - accuracy: 0.7333 - val_loss: 2.9884 - val_accuracy: 0.0833\n",
      "Epoch 53/60\n",
      "1/1 [==============================] - 0s 217ms/step - loss: 1.0394 - accuracy: 0.8000 - val_loss: 3.0018 - val_accuracy: 0.0833\n",
      "Epoch 54/60\n",
      "1/1 [==============================] - 0s 215ms/step - loss: 1.0162 - accuracy: 0.8667 - val_loss: 3.0137 - val_accuracy: 0.0833\n",
      "Epoch 55/60\n",
      "1/1 [==============================] - 0s 215ms/step - loss: 0.9938 - accuracy: 0.8667 - val_loss: 3.0246 - val_accuracy: 0.0833\n",
      "Epoch 56/60\n",
      "1/1 [==============================] - 0s 229ms/step - loss: 0.9720 - accuracy: 0.8667 - val_loss: 3.0351 - val_accuracy: 0.0833\n",
      "Epoch 57/60\n",
      "1/1 [==============================] - 0s 213ms/step - loss: 0.9513 - accuracy: 0.8667 - val_loss: 3.0443 - val_accuracy: 0.0833\n",
      "Epoch 58/60\n",
      "1/1 [==============================] - 0s 229ms/step - loss: 0.9320 - accuracy: 0.8667 - val_loss: 3.0523 - val_accuracy: 0.0833\n",
      "Epoch 59/60\n",
      "1/1 [==============================] - 0s 204ms/step - loss: 0.9127 - accuracy: 0.9333 - val_loss: 3.0593 - val_accuracy: 0.0833\n",
      "Epoch 60/60\n",
      "1/1 [==============================] - 0s 217ms/step - loss: 0.8933 - accuracy: 0.9333 - val_loss: 3.0657 - val_accuracy: 0.0833\n"
     ]
    }
   ],
   "source": [
    "# 20 epochs worked well -> more 92.9\n",
    "# 40 epoc -> 95.6 accuracy\n",
    "# 60 -> 98.3 accuracy\n",
    "\n",
    "model.compile(optimizer=optimizer,\n",
    "              loss=tf.keras.losses.SparseCategoricalCrossentropy(from_logits=True),\n",
    "              metrics=['accuracy'])\n",
    "\n",
    "history = model.fit(training_data, training_labels, epochs=60   , \n",
    "                    validation_data=(testing_data, testing_labels))\n",
    "\n",
    "# test 1 recording from test spceies\n",
    "# is mel spectrogram a case\n",
    "# try without augmentaiotn / small nn (40 % training accuracy 0-6% testing accuracy)\n",
    "# try with agmentaiton / small nn ( if jump is not big enough, mel spectrogarm not good neough ( small nn with 92% training accuracy, 66% testing accuracy), validiation accuracy failes to increase afrter accuracy of arround 70 percent training\n",
    "# try with augmentation / big nn (big nn with 93 % training accuracy, 66 accuracy)\n",
    "# svm model"
   ]
  },
  {
   "cell_type": "code",
   "execution_count": 1656,
   "metadata": {},
   "outputs": [
    {
     "name": "stdout",
     "output_type": "stream",
     "text": [
      "1/1 - 0s - loss: 3.0657 - accuracy: 0.0833 - 48ms/epoch - 48ms/step\n",
      "0.0833333358168602\n"
     ]
    }
   ],
   "source": [
    "test_loss, test_acc = model.evaluate(testing_data,  testing_labels, verbose=2)\n",
    "print(test_acc)\n",
    "# how to display confidence scores of each input??? "
   ]
  },
  {
   "attachments": {},
   "cell_type": "markdown",
   "metadata": {},
   "source": [
    "1/ (1 + math.exp(915.83))"
   ]
  },
  {
   "cell_type": "code",
   "execution_count": 1657,
   "metadata": {},
   "outputs": [
    {
     "name": "stdout",
     "output_type": "stream",
     "text": [
      "1/1 [==============================] - 0s 96ms/step\n",
      "0.0 TestingLabel: 0\n",
      "0.0 TestingLabel: 1\n",
      "0.0 TestingLabel: 2\n",
      "0.0 TestingLabel: 3\n",
      "0.0 TestingLabel: 4\n",
      "0.0 TestingLabel: 5\n",
      "0.0 TestingLabel: 6\n",
      "0.0 TestingLabel: 7\n",
      "0.0 TestingLabel: 8\n",
      "0.0 TestingLabel: 9\n",
      "0.0 TestingLabel: 10\n",
      "0.0 TestingLabel: 11\n",
      "[0. 0. 0. 1. 0. 0. 0. 0. 0. 0. 0. 0.]\n"
     ]
    }
   ],
   "source": [
    "prediction = model.predict(testing_data).round()\n",
    "#print(testing_data.shape)\n",
    "#print(prediction[11][1])\n",
    "updated_predictions = []\n",
    "maximum = -1\n",
    "for i in range(0, len(prediction)):\n",
    "    print(prediction[i][testing_labels[i]] * 100,  \"TestingLabel: \" + str(testing_labels[i]))\n",
    "    updated_predictions.append((prediction[i][testing_labels[i]] * 100,testing_labels[i]))\n",
    "    #for j in range(0, len(prediction[i])):\n",
    "       # if(prediction[i][j] > maximum):\n",
    "           # maximum = prediction[i][j]\n",
    "       # if prediction[i][j] < 0:\n",
    "           # prediction[i][j] = 0\n",
    "       # elif prediction [i][j] < -32:\n",
    "          #  prediction[i][j] = 0\n",
    "       # else:\n",
    "           # prediction[i][j] = sigmoid(prediction[i][j])\n",
    "\n",
    "#print(testing_labels[0])\n",
    "print(prediction[2])\n",
    "#print(maximum)\n",
    "#print(\"prediction shape:\", prediction.shape)"
   ]
  },
  {
   "cell_type": "code",
   "execution_count": 1658,
   "metadata": {},
   "outputs": [
    {
     "name": "stdout",
     "output_type": "stream",
     "text": [
      "[[0. 0. 0. 0. 0. 0. 0. 0. 0. 0. 0. 0.]\n",
      " [0. 0. 0. 0. 0. 0. 0. 0. 0. 0. 0. 0.]\n",
      " [0. 0. 0. 1. 0. 0. 0. 0. 0. 0. 0. 0.]\n",
      " [0. 0. 0. 0. 0. 0. 0. 0. 0. 0. 0. 0.]\n",
      " [0. 0. 0. 0. 0. 0. 0. 0. 0. 0. 0. 0.]\n",
      " [0. 0. 0. 1. 0. 0. 0. 0. 0. 0. 0. 0.]\n",
      " [0. 0. 0. 0. 0. 0. 0. 0. 0. 0. 0. 0.]\n",
      " [0. 0. 0. 0. 0. 0. 0. 0. 0. 0. 0. 0.]\n",
      " [0. 0. 0. 0. 0. 0. 0. 0. 0. 0. 0. 0.]\n",
      " [0. 0. 0. 0. 0. 0. 0. 0. 0. 0. 0. 0.]\n",
      " [0. 0. 0. 0. 0. 0. 0. 0. 0. 0. 0. 0.]\n",
      " [0. 0. 0. 0. 0. 0. 0. 0. 0. 0. 0. 0.]]\n",
      "[0 0 3 0 0 3 0 0 0 0 0 0]\n",
      "0.08333333333333333\n",
      "0.08333333333333333\n",
      "0.08333333333333333\n"
     ]
    },
    {
     "name": "stderr",
     "output_type": "stream",
     "text": [
      "C:\\Users\\anand\\AppData\\Roaming\\Python\\Python311\\site-packages\\sklearn\\metrics\\_classification.py:1521: UserWarning: Note that pos_label (set to 'positive') is ignored when average != 'binary' (got 'micro'). You may use labels=[pos_label] to specify a single positive class.\n",
      "  warnings.warn(\n",
      "C:\\Users\\anand\\AppData\\Roaming\\Python\\Python311\\site-packages\\sklearn\\metrics\\_classification.py:1521: UserWarning: Note that pos_label (set to 'positive') is ignored when average != 'binary' (got 'micro'). You may use labels=[pos_label] to specify a single positive class.\n",
      "  warnings.warn(\n",
      "C:\\Users\\anand\\AppData\\Roaming\\Python\\Python311\\site-packages\\sklearn\\metrics\\_classification.py:1521: UserWarning: Note that pos_label (set to 'positive') is ignored when average != 'binary' (got 'micro'). You may use labels=[pos_label] to specify a single positive class.\n",
      "  warnings.warn(\n"
     ]
    }
   ],
   "source": [
    "from sklearn import metrics\n",
    "print(prediction)\n",
    "prediction = np.argmax(prediction, axis=1)\n",
    "print(prediction)\n",
    "print(metrics.f1_score(prediction, testing_labels, average='micro', pos_label='positive'))\n",
    "print(metrics.precision_score(prediction, testing_labels, average='micro', pos_label='positive'))\n",
    "print(metrics.recall_score(prediction, testing_labels, average='micro', pos_label='positive'))"
   ]
  },
  {
   "cell_type": "code",
   "execution_count": 1659,
   "metadata": {},
   "outputs": [],
   "source": [
    "def accuracies_for_each_class(predictions):\n",
    "    new_predictions  = []\n",
    "    for i in range(NUM_CLASSES):\n",
    "        num = 0\n",
    "        counter =0\n",
    "        for accuracy in predictions:\n",
    "            if (accuracy[1] == i):\n",
    "                num += accuracy[0]\n",
    "                counter  = counter + 1\n",
    "        if counter != 0:\n",
    "            average = num / counter\n",
    "        else:\n",
    "            average = 0\n",
    "        new_predictions.append((average, i))\n",
    "    return new_predictions\n",
    "        \n",
    "        "
   ]
  },
  {
   "cell_type": "code",
   "execution_count": 1660,
   "metadata": {},
   "outputs": [
    {
     "ename": "NameError",
     "evalue": "name 'NUM_CLASSES' is not defined",
     "output_type": "error",
     "traceback": [
      "\u001b[1;31m---------------------------------------------------------------------------\u001b[0m",
      "\u001b[1;31mNameError\u001b[0m                                 Traceback (most recent call last)",
      "Cell \u001b[1;32mIn[1660], line 1\u001b[0m\n\u001b[1;32m----> 1\u001b[0m average_predictions \u001b[39m=\u001b[39m accuracies_for_each_class(updated_predictions)\n\u001b[0;32m      2\u001b[0m \u001b[39mprint\u001b[39m(prediction[\u001b[39m15\u001b[39m])\n\u001b[0;32m      3\u001b[0m \u001b[39mprint\u001b[39m(average_predictions)\n",
      "Cell \u001b[1;32mIn[1659], line 3\u001b[0m, in \u001b[0;36maccuracies_for_each_class\u001b[1;34m(predictions)\u001b[0m\n\u001b[0;32m      1\u001b[0m \u001b[39mdef\u001b[39;00m \u001b[39maccuracies_for_each_class\u001b[39m(predictions):\n\u001b[0;32m      2\u001b[0m     new_predictions  \u001b[39m=\u001b[39m []\n\u001b[1;32m----> 3\u001b[0m     \u001b[39mfor\u001b[39;00m i \u001b[39min\u001b[39;00m \u001b[39mrange\u001b[39m(NUM_CLASSES):\n\u001b[0;32m      4\u001b[0m         num \u001b[39m=\u001b[39m \u001b[39m0\u001b[39m\n\u001b[0;32m      5\u001b[0m         counter \u001b[39m=\u001b[39m\u001b[39m0\u001b[39m\n",
      "\u001b[1;31mNameError\u001b[0m: name 'NUM_CLASSES' is not defined"
     ]
    }
   ],
   "source": [
    "average_predictions = accuracies_for_each_class(updated_predictions)\n",
    "print(prediction[15])\n",
    "print(average_predictions)"
   ]
  },
  {
   "cell_type": "code",
   "execution_count": null,
   "metadata": {},
   "outputs": [
    {
     "name": "stdout",
     "output_type": "stream",
     "text": [
      "30\n",
      "24\n",
      "0\n",
      "(24,)\n",
      "(24, 12)\n",
      "(24,)\n",
      "[[0 0 0 2 0 0 0 0 0 0 0 0]\n",
      " [2 0 0 0 0 0 0 0 0 0 0 0]\n",
      " [2 0 0 0 0 0 0 0 0 0 0 0]\n",
      " [2 0 0 0 0 0 0 0 0 0 0 0]\n",
      " [2 0 0 0 0 0 0 0 0 0 0 0]\n",
      " [2 0 0 0 0 0 0 0 0 0 0 0]\n",
      " [2 0 0 0 0 0 0 0 0 0 0 0]\n",
      " [2 0 0 0 0 0 0 0 0 0 0 0]\n",
      " [2 0 0 0 0 0 0 0 0 0 0 0]\n",
      " [2 0 0 0 0 0 0 0 0 0 0 0]\n",
      " [2 0 0 0 0 0 0 0 0 0 0 0]\n",
      " [1 0 0 1 0 0 0 0 0 0 0 0]]\n"
     ]
    }
   ],
   "source": [
    "print(len(training_data))\n",
    "print(len(testing_labels))\n",
    "print(len(class_names))\n",
    "print(testing_labels.shape)\n",
    "print(prediction.shape)\n",
    "prediction = np.argmax(prediction, axis = 1)\n",
    "print(prediction.shape)\n",
    "cm = confusion_matrix(testing_labels, prediction)\n",
    "\n",
    "print(cm)\n"
   ]
  },
  {
   "cell_type": "code",
   "execution_count": null,
   "metadata": {},
   "outputs": [],
   "source": [
    "def plot_confusion_matrix(cm,\n",
    "                          target_names,\n",
    "                          title='Confusion matrix',\n",
    "                          cmap=None,\n",
    "                          normalize=True):\n",
    "    \"\"\"\n",
    "    given a sklearn confusion matrix (cm), make a nice plot\n",
    "\n",
    "    Arguments\n",
    "    ---------\n",
    "    cm:           confusion matrix from sklearn.metrics.confusion_matrix\n",
    "\n",
    "    target_names: given classification classes such as [0, 1, 2]\n",
    "                  the class names, for example: ['high', 'medium', 'low']\n",
    "\n",
    "    title:        the text to display at the top of the matrix\n",
    "\n",
    "    cmap:         the gradient of the values displayed from matplotlib.pyplot.cm\n",
    "                  see http://matplotlib.org/examples/color/colormaps_reference.html\n",
    "                  plt.get_cmap('jet') or plt.cm.Blues\n",
    "\n",
    "    normalize:    If False, plot the raw numbers\n",
    "                  If True, plot the proportions\n",
    "\n",
    "    Usage\n",
    "    -----\n",
    "    plot_confusion_matrix(cm           = cm,                  # confusion matrix created by\n",
    "                                                              # sklearn.metrics.confusion_matrix\n",
    "                          normalize    = True,                # show proportions\n",
    "                          target_names = y_labels_vals,       # list of names of the classes\n",
    "                          title        = best_estimator_name) # title of graph\n",
    "\n",
    "    Citiation\n",
    "    ---------\n",
    "    http://scikit-learn.org/stable/auto_examples/model_selection/plot_confusion_matrix.html\n",
    "\n",
    "    \"\"\"\n",
    "    import matplotlib.pyplot as plt\n",
    "    import numpy as np\n",
    "    import itertools\n",
    "\n",
    "    accuracy = np.trace(cm) / np.sum(cm).astype('float')\n",
    "    misclass = 1 - accuracy\n",
    "\n",
    "    if cmap is None:\n",
    "        cmap = plt.get_cmap('Blues')\n",
    "\n",
    "    plt.figure(figsize=(200,200))\n",
    "    plt.imshow(cm, interpolation='nearest', cmap=cmap)\n",
    "    plt.title(title)\n",
    "    plt.colorbar()\n",
    "\n",
    "    if target_names is not None:\n",
    "        tick_marks = np.arange(len(target_names))\n",
    "        plt.xticks(tick_marks, target_names, rotation=45)\n",
    "        plt.yticks(tick_marks, target_names)\n",
    "\n",
    "    if normalize:\n",
    "        cm = cm.astype('float') / cm.sum(axis=1)[:, np.newaxis]\n",
    "\n",
    "\n",
    "    thresh = cm.max() / 1.5 if normalize else cm.max() / 2\n",
    "    for i, j in itertools.product(range(cm.shape[0]), range(cm.shape[1])):\n",
    "        if normalize:\n",
    "            plt.text(j, i, \"{:0.4f}\".format(cm[i, j]),\n",
    "                     horizontalalignment=\"center\",\n",
    "                     color=\"white\" if cm[i, j] > thresh else \"black\")\n",
    "        else:\n",
    "            plt.text(j, i, \"{:,}\".format(cm[i, j]),\n",
    "                     horizontalalignment=\"center\",\n",
    "                     color=\"white\" if cm[i, j] > thresh else \"black\")\n",
    "\n",
    "\n",
    "    plt.tight_layout()\n",
    "    plt.ylabel('True label')\n",
    "    plt.xlabel('Predicted label\\naccuracy={:0.4f}; misclass={:0.4f}'.format(accuracy, misclass))\n",
    "    plt.show()"
   ]
  },
  {
   "cell_type": "code",
   "execution_count": null,
   "metadata": {},
   "outputs": [
    {
     "data": {
      "image/png": "[encoded data removed]",
      "text/plain": [
       "<Figure size 2000x2000 with 2 Axes>"
      ]
     },
     "metadata": {},
     "output_type": "display_data"
    }
   ],
   "source": [
    "\n",
    "cmd = ConfusionMatrixDisplay(cm, )\n",
    "fig, ax = plt.subplots(figsize=(20,20))\n",
    "cmd.plot(ax=ax, )\n",
    "plt.xticks(rotation=270)\n",
    "plt.show()\n",
    "#0, 15, 30, 39, 4, 41, 58, 9"
   ]
  },
  {
   "cell_type": "code",
   "execution_count": null,
   "metadata": {},
   "outputs": [
    {
     "ename": "TypeError",
     "evalue": "unsupported operand type(s) for /: 'ConfusionMatrixDisplay' and 'ConfusionMatrixDisplay'",
     "output_type": "error",
     "traceback": [
      "\u001b[1;31m---------------------------------------------------------------------------\u001b[0m",
      "\u001b[1;31mTypeError\u001b[0m                                 Traceback (most recent call last)",
      "Cell \u001b[1;32mIn[1963], line 1\u001b[0m\n\u001b[1;32m----> 1\u001b[0m sns\u001b[39m.\u001b[39mheatmap(cmd\u001b[39m/\u001b[39;49mnp\u001b[39m.\u001b[39;49msum(cmd), annot\u001b[39m=\u001b[39m\u001b[39mTrue\u001b[39;00m, \n\u001b[0;32m      2\u001b[0m             fmt\u001b[39m=\u001b[39m\u001b[39m'\u001b[39m\u001b[39m.2\u001b[39m\u001b[39m%\u001b[39m\u001b[39m'\u001b[39m, cmap\u001b[39m=\u001b[39m\u001b[39m'\u001b[39m\u001b[39mBlues\u001b[39m\u001b[39m'\u001b[39m)\n",
      "\u001b[1;31mTypeError\u001b[0m: unsupported operand type(s) for /: 'ConfusionMatrixDisplay' and 'ConfusionMatrixDisplay'"
     ]
    }
   ],
   "source": [
    "sns.heatmap(cmd/np.sum(cmd), annot=True, \n",
    "            fmt='.2%', cmap='Blues')"
   ]
  },
  {
   "cell_type": "code",
   "execution_count": null,
   "metadata": {},
   "outputs": [],
   "source": [
    "# sample = {-1}\n",
    "# for predict in prediction:\n",
    "#     counter = 0\n",
    "#     for pre in predict:\n",
    "#         if(pre  >= .1):\n",
    "#             sample.add(counter)\n",
    "            \n",
    "#             counter = 0\n",
    "#             break\n",
    "#         counter = counter + 1\n",
    "# sample"
   ]
  },
  {
   "cell_type": "code",
   "execution_count": null,
   "metadata": {},
   "outputs": [],
   "source": [
    "# def plot_spectrogram(specgram, title=None, ylabel=\"freq_bin\", ax=None):\n",
    "#     if ax is None:\n",
    "#         _, ax = plt.subplots(1, 1)\n",
    "#     if title is not None:\n",
    "#         ax.set_title(title)\n",
    "#     ax.set_ylabel(ylabel)\n",
    "#     ax.imshow(librosa.power_to_db(specgram), origin=\"lower\", aspect=\"auto\", interpolation=\"nearest\")\n",
    "#     plt.show(block=False)"
   ]
  },
  {
   "cell_type": "code",
   "execution_count": null,
   "metadata": {},
   "outputs": [],
   "source": [
    "# fig, axs = plt.subplots(2, 1)\n",
    "# #a = librosa.power_to_db(training_data[0])\n",
    "# plot_spectrogram(training_data[0],title=\"spectrogram\", ax=axs[1])"
   ]
  },
  {
   "cell_type": "code",
   "execution_count": null,
   "metadata": {},
   "outputs": [],
   "source": [
    "# fig, ax = plt.subplots()\n",
    "# print(np.array(data1[0][0].shape))\n",
    "# sample = np.array(data1[0][0][:1])\n",
    "# sample2 = sample\n",
    "# print(sample2.shape)\n",
    "# spect = librosa.feature.melspectrogram(y=np.array(data1[0][0][:1]), sr=48000, n_mels=128,\n",
    "#                                     fmax=8000)\n",
    "# print(spect.shape)\n",
    "# S_dB = librosa.power_to_db(spect, ref=np.max)\n",
    "# print(S_dB.shape)\n",
    "# img = librosa.display.specshow(S_dB, x_axis='time',\n",
    "#                          y_axis='mel', sr=48000,\n",
    "#                          fmax=8000, ax=ax)\n",
    "# fig.colorbar(img, ax=ax, format='%+2.0f dB')\n",
    "# ax.set(title='Mel-frequency spectrogram')"
   ]
  }
 ],
 "metadata": {
  "kernelspec": {
   "display_name": "Python 3",
   "language": "python",
   "name": "python3"
  },
  "language_info": {
   "codemirror_mode": {
    "name": "ipython",
    "version": 3
   },
   "file_extension": ".py",
   "mimetype": "text/x-python",
   "name": "python",
   "nbconvert_exporter": "python",
   "pygments_lexer": "ipython3",
   "version": "3.11.3"
  },
  "orig_nbformat": 4,
  "vscode": {
   "interpreter": {
    "hash": "5238573367df39f7286bb46f9ff5f08f63a01a80960060ce41e3c79b190280fa"
   }
  }
 },
 "nbformat": 4,
 "nbformat_minor": 2
}
